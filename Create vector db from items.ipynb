{
 "cells": [
  {
   "cell_type": "markdown",
   "metadata": {
    "id": "y13XAitEXFpq"
   },
   "source": [
    "# E-com Assistant ChromaDB supplier"
   ]
  },
  {
   "cell_type": "markdown",
   "metadata": {
    "id": "KMZbv8IqJKQI"
   },
   "source": [
    "## Инициализация настроек"
   ]
  },
  {
   "cell_type": "markdown",
   "metadata": {
    "id": "irCO0E65vtrP"
   },
   "source": [
    "Установка и инициализация библиотек"
   ]
  },
  {
   "cell_type": "code",
   "execution_count": 4,
   "metadata": {
    "collapsed": true,
    "id": "Ua9YICNnXBjI",
    "ExecuteTime": {
     "end_time": "2024-10-21T06:33:12.013045300Z",
     "start_time": "2024-10-21T06:33:04.043795400Z"
    }
   },
   "outputs": [
    {
     "name": "stdout",
     "output_type": "stream",
     "text": [
      "Requirement already satisfied: chromadb in c:\\users\\tuman\\appdata\\local\\programs\\python\\python310\\lib\\site-packages (0.5.3)\n",
      "Requirement already satisfied: build>=1.0.3 in c:\\users\\tuman\\appdata\\local\\programs\\python\\python310\\lib\\site-packages (from chromadb) (1.2.1)\n",
      "Requirement already satisfied: requests>=2.28 in c:\\users\\tuman\\appdata\\local\\programs\\python\\python310\\lib\\site-packages (from chromadb) (2.32.3)\n",
      "Requirement already satisfied: pydantic>=1.9 in c:\\users\\tuman\\appdata\\local\\programs\\python\\python310\\lib\\site-packages (from chromadb) (2.9.2)\n",
      "Requirement already satisfied: chroma-hnswlib==0.7.3 in c:\\users\\tuman\\appdata\\local\\programs\\python\\python310\\lib\\site-packages (from chromadb) (0.7.3)\n",
      "Requirement already satisfied: fastapi>=0.95.2 in c:\\users\\tuman\\appdata\\local\\programs\\python\\python310\\lib\\site-packages (from chromadb) (0.111.0)\n",
      "Requirement already satisfied: uvicorn>=0.18.3 in c:\\users\\tuman\\appdata\\local\\programs\\python\\python310\\lib\\site-packages (from uvicorn[standard]>=0.18.3->chromadb) (0.30.0)\n",
      "Requirement already satisfied: numpy<2.0.0,>=1.22.5 in c:\\users\\tuman\\appdata\\local\\programs\\python\\python310\\lib\\site-packages (from chromadb) (1.26.4)\n",
      "Requirement already satisfied: posthog>=2.4.0 in c:\\users\\tuman\\appdata\\local\\programs\\python\\python310\\lib\\site-packages (from chromadb) (3.6.3)\n",
      "Requirement already satisfied: typing-extensions>=4.5.0 in c:\\users\\tuman\\appdata\\local\\programs\\python\\python310\\lib\\site-packages (from chromadb) (4.12.2)\n",
      "Requirement already satisfied: onnxruntime>=1.14.1 in c:\\users\\tuman\\appdata\\local\\programs\\python\\python310\\lib\\site-packages (from chromadb) (1.19.0)\n",
      "Requirement already satisfied: opentelemetry-api>=1.2.0 in c:\\users\\tuman\\appdata\\local\\programs\\python\\python310\\lib\\site-packages (from chromadb) (1.27.0)\n",
      "Requirement already satisfied: opentelemetry-exporter-otlp-proto-grpc>=1.2.0 in c:\\users\\tuman\\appdata\\local\\programs\\python\\python310\\lib\\site-packages (from chromadb) (1.27.0)\n",
      "Requirement already satisfied: opentelemetry-instrumentation-fastapi>=0.41b0 in c:\\users\\tuman\\appdata\\local\\programs\\python\\python310\\lib\\site-packages (from chromadb) (0.48b0)\n",
      "Requirement already satisfied: opentelemetry-sdk>=1.2.0 in c:\\users\\tuman\\appdata\\local\\programs\\python\\python310\\lib\\site-packages (from chromadb) (1.27.0)\n",
      "Requirement already satisfied: tokenizers>=0.13.2 in c:\\users\\tuman\\appdata\\local\\programs\\python\\python310\\lib\\site-packages (from chromadb) (0.19.1)\n",
      "Requirement already satisfied: pypika>=0.48.9 in c:\\users\\tuman\\appdata\\local\\programs\\python\\python310\\lib\\site-packages (from chromadb) (0.48.9)\n",
      "Requirement already satisfied: tqdm>=4.65.0 in c:\\users\\tuman\\appdata\\local\\programs\\python\\python310\\lib\\site-packages (from chromadb) (4.66.4)\n",
      "Requirement already satisfied: overrides>=7.3.1 in c:\\users\\tuman\\appdata\\local\\programs\\python\\python310\\lib\\site-packages (from chromadb) (7.7.0)\n",
      "Requirement already satisfied: importlib-resources in c:\\users\\tuman\\appdata\\local\\programs\\python\\python310\\lib\\site-packages (from chromadb) (6.4.4)\n",
      "Requirement already satisfied: grpcio>=1.58.0 in c:\\users\\tuman\\appdata\\local\\programs\\python\\python310\\lib\\site-packages (from chromadb) (1.66.1)\n",
      "Requirement already satisfied: bcrypt>=4.0.1 in c:\\users\\tuman\\appdata\\local\\programs\\python\\python310\\lib\\site-packages (from chromadb) (4.2.0)\n",
      "Requirement already satisfied: typer>=0.9.0 in c:\\users\\tuman\\appdata\\local\\programs\\python\\python310\\lib\\site-packages (from chromadb) (0.12.3)\n",
      "Requirement already satisfied: kubernetes>=28.1.0 in c:\\users\\tuman\\appdata\\local\\programs\\python\\python310\\lib\\site-packages (from chromadb) (30.1.0)\n",
      "Requirement already satisfied: tenacity>=8.2.3 in c:\\users\\tuman\\appdata\\local\\programs\\python\\python310\\lib\\site-packages (from chromadb) (8.5.0)\n",
      "Requirement already satisfied: PyYAML>=6.0.0 in c:\\users\\tuman\\appdata\\local\\programs\\python\\python310\\lib\\site-packages (from chromadb) (6.0.1)\n",
      "Requirement already satisfied: mmh3>=4.0.1 in c:\\users\\tuman\\appdata\\local\\programs\\python\\python310\\lib\\site-packages (from chromadb) (4.1.0)\n",
      "Requirement already satisfied: orjson>=3.9.12 in c:\\users\\tuman\\appdata\\local\\programs\\python\\python310\\lib\\site-packages (from chromadb) (3.10.3)\n",
      "Requirement already satisfied: httpx>=0.27.0 in c:\\users\\tuman\\appdata\\local\\programs\\python\\python310\\lib\\site-packages (from chromadb) (0.27.0)\n",
      "Requirement already satisfied: packaging>=19.1 in c:\\users\\tuman\\appdata\\local\\programs\\python\\python310\\lib\\site-packages (from build>=1.0.3->chromadb) (23.2)\n",
      "Requirement already satisfied: pyproject_hooks in c:\\users\\tuman\\appdata\\local\\programs\\python\\python310\\lib\\site-packages (from build>=1.0.3->chromadb) (1.1.0)\n",
      "Requirement already satisfied: colorama in c:\\users\\tuman\\appdata\\local\\programs\\python\\python310\\lib\\site-packages (from build>=1.0.3->chromadb) (0.4.6)\n",
      "Requirement already satisfied: importlib-metadata>=4.6 in c:\\users\\tuman\\appdata\\local\\programs\\python\\python310\\lib\\site-packages (from build>=1.0.3->chromadb) (8.4.0)\n",
      "Requirement already satisfied: tomli>=1.1.0 in c:\\users\\tuman\\appdata\\local\\programs\\python\\python310\\lib\\site-packages (from build>=1.0.3->chromadb) (2.0.1)\n",
      "Requirement already satisfied: starlette<0.38.0,>=0.37.2 in c:\\users\\tuman\\appdata\\local\\programs\\python\\python310\\lib\\site-packages (from fastapi>=0.95.2->chromadb) (0.37.2)\n",
      "Requirement already satisfied: fastapi-cli>=0.0.2 in c:\\users\\tuman\\appdata\\local\\programs\\python\\python310\\lib\\site-packages (from fastapi>=0.95.2->chromadb) (0.0.4)\n",
      "Requirement already satisfied: jinja2>=2.11.2 in c:\\users\\tuman\\appdata\\local\\programs\\python\\python310\\lib\\site-packages (from fastapi>=0.95.2->chromadb) (3.1.4)\n",
      "Requirement already satisfied: python-multipart>=0.0.7 in c:\\users\\tuman\\appdata\\local\\programs\\python\\python310\\lib\\site-packages (from fastapi>=0.95.2->chromadb) (0.0.9)\n",
      "Requirement already satisfied: ujson!=4.0.2,!=4.1.0,!=4.2.0,!=4.3.0,!=5.0.0,!=5.1.0,>=4.0.1 in c:\\users\\tuman\\appdata\\local\\programs\\python\\python310\\lib\\site-packages (from fastapi>=0.95.2->chromadb) (5.10.0)\n",
      "Requirement already satisfied: email_validator>=2.0.0 in c:\\users\\tuman\\appdata\\local\\programs\\python\\python310\\lib\\site-packages (from fastapi>=0.95.2->chromadb) (2.1.1)\n",
      "Requirement already satisfied: anyio in c:\\users\\tuman\\appdata\\local\\programs\\python\\python310\\lib\\site-packages (from httpx>=0.27.0->chromadb) (4.4.0)\n",
      "Requirement already satisfied: certifi in c:\\users\\tuman\\appdata\\local\\programs\\python\\python310\\lib\\site-packages (from httpx>=0.27.0->chromadb) (2024.6.2)\n",
      "Requirement already satisfied: httpcore==1.* in c:\\users\\tuman\\appdata\\local\\programs\\python\\python310\\lib\\site-packages (from httpx>=0.27.0->chromadb) (1.0.5)\n",
      "Requirement already satisfied: idna in c:\\users\\tuman\\appdata\\local\\programs\\python\\python310\\lib\\site-packages (from httpx>=0.27.0->chromadb) (3.7)\n",
      "Requirement already satisfied: sniffio in c:\\users\\tuman\\appdata\\local\\programs\\python\\python310\\lib\\site-packages (from httpx>=0.27.0->chromadb) (1.3.1)\n",
      "Requirement already satisfied: h11<0.15,>=0.13 in c:\\users\\tuman\\appdata\\local\\programs\\python\\python310\\lib\\site-packages (from httpcore==1.*->httpx>=0.27.0->chromadb) (0.14.0)\n",
      "Requirement already satisfied: six>=1.9.0 in c:\\users\\tuman\\appdata\\local\\programs\\python\\python310\\lib\\site-packages (from kubernetes>=28.1.0->chromadb) (1.16.0)\n",
      "Requirement already satisfied: python-dateutil>=2.5.3 in c:\\users\\tuman\\appdata\\local\\programs\\python\\python310\\lib\\site-packages (from kubernetes>=28.1.0->chromadb) (2.9.0.post0)\n",
      "Requirement already satisfied: google-auth>=1.0.1 in c:\\users\\tuman\\appdata\\local\\programs\\python\\python310\\lib\\site-packages (from kubernetes>=28.1.0->chromadb) (2.34.0)\n",
      "Requirement already satisfied: websocket-client!=0.40.0,!=0.41.*,!=0.42.*,>=0.32.0 in c:\\users\\tuman\\appdata\\local\\programs\\python\\python310\\lib\\site-packages (from kubernetes>=28.1.0->chromadb) (1.8.0)\n",
      "Requirement already satisfied: requests-oauthlib in c:\\users\\tuman\\appdata\\local\\programs\\python\\python310\\lib\\site-packages (from kubernetes>=28.1.0->chromadb) (2.0.0)\n",
      "Requirement already satisfied: oauthlib>=3.2.2 in c:\\users\\tuman\\appdata\\local\\programs\\python\\python310\\lib\\site-packages (from kubernetes>=28.1.0->chromadb) (3.2.2)\n",
      "Requirement already satisfied: urllib3>=1.24.2 in c:\\users\\tuman\\appdata\\local\\programs\\python\\python310\\lib\\site-packages (from kubernetes>=28.1.0->chromadb) (2.2.2)\n",
      "Requirement already satisfied: coloredlogs in c:\\users\\tuman\\appdata\\local\\programs\\python\\python310\\lib\\site-packages (from onnxruntime>=1.14.1->chromadb) (15.0.1)\n",
      "Requirement already satisfied: flatbuffers in c:\\users\\tuman\\appdata\\local\\programs\\python\\python310\\lib\\site-packages (from onnxruntime>=1.14.1->chromadb) (24.3.25)\n",
      "Requirement already satisfied: protobuf in c:\\users\\tuman\\appdata\\local\\programs\\python\\python310\\lib\\site-packages (from onnxruntime>=1.14.1->chromadb) (4.25.4)\n",
      "Requirement already satisfied: sympy in c:\\users\\tuman\\appdata\\local\\programs\\python\\python310\\lib\\site-packages (from onnxruntime>=1.14.1->chromadb) (1.13.2)\n",
      "Requirement already satisfied: deprecated>=1.2.6 in c:\\users\\tuman\\appdata\\local\\programs\\python\\python310\\lib\\site-packages (from opentelemetry-api>=1.2.0->chromadb) (1.2.14)\n",
      "Requirement already satisfied: googleapis-common-protos~=1.52 in c:\\users\\tuman\\appdata\\local\\programs\\python\\python310\\lib\\site-packages (from opentelemetry-exporter-otlp-proto-grpc>=1.2.0->chromadb) (1.65.0)\n",
      "Requirement already satisfied: opentelemetry-exporter-otlp-proto-common==1.27.0 in c:\\users\\tuman\\appdata\\local\\programs\\python\\python310\\lib\\site-packages (from opentelemetry-exporter-otlp-proto-grpc>=1.2.0->chromadb) (1.27.0)\n",
      "Requirement already satisfied: opentelemetry-proto==1.27.0 in c:\\users\\tuman\\appdata\\local\\programs\\python\\python310\\lib\\site-packages (from opentelemetry-exporter-otlp-proto-grpc>=1.2.0->chromadb) (1.27.0)\n",
      "Requirement already satisfied: opentelemetry-instrumentation-asgi==0.48b0 in c:\\users\\tuman\\appdata\\local\\programs\\python\\python310\\lib\\site-packages (from opentelemetry-instrumentation-fastapi>=0.41b0->chromadb) (0.48b0)\n",
      "Requirement already satisfied: opentelemetry-instrumentation==0.48b0 in c:\\users\\tuman\\appdata\\local\\programs\\python\\python310\\lib\\site-packages (from opentelemetry-instrumentation-fastapi>=0.41b0->chromadb) (0.48b0)\n",
      "Requirement already satisfied: opentelemetry-semantic-conventions==0.48b0 in c:\\users\\tuman\\appdata\\local\\programs\\python\\python310\\lib\\site-packages (from opentelemetry-instrumentation-fastapi>=0.41b0->chromadb) (0.48b0)\n",
      "Requirement already satisfied: opentelemetry-util-http==0.48b0 in c:\\users\\tuman\\appdata\\local\\programs\\python\\python310\\lib\\site-packages (from opentelemetry-instrumentation-fastapi>=0.41b0->chromadb) (0.48b0)\n",
      "Requirement already satisfied: setuptools>=16.0 in c:\\users\\tuman\\appdata\\local\\programs\\python\\python310\\lib\\site-packages (from opentelemetry-instrumentation==0.48b0->opentelemetry-instrumentation-fastapi>=0.41b0->chromadb) (57.4.0)\n",
      "Requirement already satisfied: wrapt<2.0.0,>=1.0.0 in c:\\users\\tuman\\appdata\\local\\programs\\python\\python310\\lib\\site-packages (from opentelemetry-instrumentation==0.48b0->opentelemetry-instrumentation-fastapi>=0.41b0->chromadb) (1.16.0)\n",
      "Requirement already satisfied: asgiref~=3.0 in c:\\users\\tuman\\appdata\\local\\programs\\python\\python310\\lib\\site-packages (from opentelemetry-instrumentation-asgi==0.48b0->opentelemetry-instrumentation-fastapi>=0.41b0->chromadb) (3.8.1)\n",
      "Requirement already satisfied: monotonic>=1.5 in c:\\users\\tuman\\appdata\\local\\programs\\python\\python310\\lib\\site-packages (from posthog>=2.4.0->chromadb) (1.6)\n",
      "Requirement already satisfied: backoff>=1.10.0 in c:\\users\\tuman\\appdata\\local\\programs\\python\\python310\\lib\\site-packages (from posthog>=2.4.0->chromadb) (2.2.1)\n",
      "Requirement already satisfied: annotated-types>=0.6.0 in c:\\users\\tuman\\appdata\\local\\programs\\python\\python310\\lib\\site-packages (from pydantic>=1.9->chromadb) (0.7.0)\n",
      "Requirement already satisfied: pydantic-core==2.23.4 in c:\\users\\tuman\\appdata\\local\\programs\\python\\python310\\lib\\site-packages (from pydantic>=1.9->chromadb) (2.23.4)\n",
      "Requirement already satisfied: charset-normalizer<4,>=2 in c:\\users\\tuman\\appdata\\local\\programs\\python\\python310\\lib\\site-packages (from requests>=2.28->chromadb) (3.3.2)\n",
      "Requirement already satisfied: huggingface-hub<1.0,>=0.16.4 in c:\\users\\tuman\\appdata\\local\\programs\\python\\python310\\lib\\site-packages (from tokenizers>=0.13.2->chromadb) (0.24.6)\n",
      "Requirement already satisfied: click>=8.0.0 in c:\\users\\tuman\\appdata\\local\\programs\\python\\python310\\lib\\site-packages (from typer>=0.9.0->chromadb) (8.1.7)\n",
      "Requirement already satisfied: shellingham>=1.3.0 in c:\\users\\tuman\\appdata\\local\\programs\\python\\python310\\lib\\site-packages (from typer>=0.9.0->chromadb) (1.5.4)\n",
      "Requirement already satisfied: rich>=10.11.0 in c:\\users\\tuman\\appdata\\local\\programs\\python\\python310\\lib\\site-packages (from typer>=0.9.0->chromadb) (13.7.1)\n",
      "Requirement already satisfied: httptools>=0.5.0 in c:\\users\\tuman\\appdata\\local\\programs\\python\\python310\\lib\\site-packages (from uvicorn[standard]>=0.18.3->chromadb) (0.6.1)\n",
      "Requirement already satisfied: python-dotenv>=0.13 in c:\\users\\tuman\\appdata\\local\\programs\\python\\python310\\lib\\site-packages (from uvicorn[standard]>=0.18.3->chromadb) (1.0.1)\n",
      "Requirement already satisfied: watchfiles>=0.13 in c:\\users\\tuman\\appdata\\local\\programs\\python\\python310\\lib\\site-packages (from uvicorn[standard]>=0.18.3->chromadb) (0.22.0)\n",
      "Requirement already satisfied: websockets>=10.4 in c:\\users\\tuman\\appdata\\local\\programs\\python\\python310\\lib\\site-packages (from uvicorn[standard]>=0.18.3->chromadb) (12.0)\n",
      "Requirement already satisfied: dnspython>=2.0.0 in c:\\users\\tuman\\appdata\\local\\programs\\python\\python310\\lib\\site-packages (from email_validator>=2.0.0->fastapi>=0.95.2->chromadb) (2.6.1)\n",
      "Requirement already satisfied: cachetools<6.0,>=2.0.0 in c:\\users\\tuman\\appdata\\local\\programs\\python\\python310\\lib\\site-packages (from google-auth>=1.0.1->kubernetes>=28.1.0->chromadb) (5.5.0)\n",
      "Requirement already satisfied: pyasn1-modules>=0.2.1 in c:\\users\\tuman\\appdata\\local\\programs\\python\\python310\\lib\\site-packages (from google-auth>=1.0.1->kubernetes>=28.1.0->chromadb) (0.4.0)\n",
      "Requirement already satisfied: rsa<5,>=3.1.4 in c:\\users\\tuman\\appdata\\local\\programs\\python\\python310\\lib\\site-packages (from google-auth>=1.0.1->kubernetes>=28.1.0->chromadb) (4.9)\n",
      "Requirement already satisfied: filelock in c:\\users\\tuman\\appdata\\local\\programs\\python\\python310\\lib\\site-packages (from huggingface-hub<1.0,>=0.16.4->tokenizers>=0.13.2->chromadb) (3.14.0)\n",
      "Requirement already satisfied: fsspec>=2023.5.0 in c:\\users\\tuman\\appdata\\local\\programs\\python\\python310\\lib\\site-packages (from huggingface-hub<1.0,>=0.16.4->tokenizers>=0.13.2->chromadb) (2024.6.1)\n",
      "Requirement already satisfied: zipp>=0.5 in c:\\users\\tuman\\appdata\\local\\programs\\python\\python310\\lib\\site-packages (from importlib-metadata>=4.6->build>=1.0.3->chromadb) (3.20.1)\n",
      "Requirement already satisfied: MarkupSafe>=2.0 in c:\\users\\tuman\\appdata\\local\\programs\\python\\python310\\lib\\site-packages (from jinja2>=2.11.2->fastapi>=0.95.2->chromadb) (2.1.5)\n",
      "Requirement already satisfied: markdown-it-py>=2.2.0 in c:\\users\\tuman\\appdata\\local\\programs\\python\\python310\\lib\\site-packages (from rich>=10.11.0->typer>=0.9.0->chromadb) (3.0.0)\n",
      "Requirement already satisfied: pygments<3.0.0,>=2.13.0 in c:\\users\\tuman\\appdata\\local\\programs\\python\\python310\\lib\\site-packages (from rich>=10.11.0->typer>=0.9.0->chromadb) (2.18.0)\n",
      "Requirement already satisfied: exceptiongroup>=1.0.2 in c:\\users\\tuman\\appdata\\local\\programs\\python\\python310\\lib\\site-packages (from anyio->httpx>=0.27.0->chromadb) (1.2.1)\n",
      "Requirement already satisfied: humanfriendly>=9.1 in c:\\users\\tuman\\appdata\\local\\programs\\python\\python310\\lib\\site-packages (from coloredlogs->onnxruntime>=1.14.1->chromadb) (10.0)\n",
      "Requirement already satisfied: mpmath<1.4,>=1.1.0 in c:\\users\\tuman\\appdata\\local\\programs\\python\\python310\\lib\\site-packages (from sympy->onnxruntime>=1.14.1->chromadb) (1.3.0)\n",
      "Requirement already satisfied: pyreadline3 in c:\\users\\tuman\\appdata\\local\\programs\\python\\python310\\lib\\site-packages (from humanfriendly>=9.1->coloredlogs->onnxruntime>=1.14.1->chromadb) (3.4.1)\n",
      "Requirement already satisfied: mdurl~=0.1 in c:\\users\\tuman\\appdata\\local\\programs\\python\\python310\\lib\\site-packages (from markdown-it-py>=2.2.0->rich>=10.11.0->typer>=0.9.0->chromadb) (0.1.2)\n",
      "Requirement already satisfied: pyasn1<0.7.0,>=0.4.6 in c:\\users\\tuman\\appdata\\local\\programs\\python\\python310\\lib\\site-packages (from pyasn1-modules>=0.2.1->google-auth>=1.0.1->kubernetes>=28.1.0->chromadb) (0.6.0)\n"
     ]
    },
    {
     "name": "stderr",
     "output_type": "stream",
     "text": [
      "\n",
      "[notice] A new release of pip is available: 24.1.1 -> 24.2\n",
      "[notice] To update, run: C:\\Users\\tuman\\AppData\\Local\\Programs\\Python\\Python310\\python.exe -m pip install --upgrade pip\n"
     ]
    },
    {
     "name": "stdout",
     "output_type": "stream",
     "text": [
      "Requirement already satisfied: sentence_transformers in c:\\users\\tuman\\appdata\\local\\programs\\python\\python310\\lib\\site-packages (3.0.1)\n",
      "Requirement already satisfied: transformers<5.0.0,>=4.34.0 in c:\\users\\tuman\\appdata\\local\\programs\\python\\python310\\lib\\site-packages (from sentence_transformers) (4.44.2)\n",
      "Requirement already satisfied: tqdm in c:\\users\\tuman\\appdata\\local\\programs\\python\\python310\\lib\\site-packages (from sentence_transformers) (4.66.4)\n",
      "Requirement already satisfied: torch>=1.11.0 in c:\\users\\tuman\\appdata\\local\\programs\\python\\python310\\lib\\site-packages (from sentence_transformers) (2.4.0)\n",
      "Requirement already satisfied: numpy in c:\\users\\tuman\\appdata\\local\\programs\\python\\python310\\lib\\site-packages (from sentence_transformers) (1.26.4)\n",
      "Requirement already satisfied: scikit-learn in c:\\users\\tuman\\appdata\\local\\programs\\python\\python310\\lib\\site-packages (from sentence_transformers) (1.5.1)\n",
      "Requirement already satisfied: scipy in c:\\users\\tuman\\appdata\\local\\programs\\python\\python310\\lib\\site-packages (from sentence_transformers) (1.14.0)\n",
      "Requirement already satisfied: huggingface-hub>=0.15.1 in c:\\users\\tuman\\appdata\\local\\programs\\python\\python310\\lib\\site-packages (from sentence_transformers) (0.24.6)\n",
      "Requirement already satisfied: Pillow in c:\\users\\tuman\\appdata\\local\\programs\\python\\python310\\lib\\site-packages (from sentence_transformers) (10.3.0)\n",
      "Requirement already satisfied: filelock in c:\\users\\tuman\\appdata\\local\\programs\\python\\python310\\lib\\site-packages (from huggingface-hub>=0.15.1->sentence_transformers) (3.14.0)\n",
      "Requirement already satisfied: fsspec>=2023.5.0 in c:\\users\\tuman\\appdata\\local\\programs\\python\\python310\\lib\\site-packages (from huggingface-hub>=0.15.1->sentence_transformers) (2024.6.1)\n",
      "Requirement already satisfied: packaging>=20.9 in c:\\users\\tuman\\appdata\\local\\programs\\python\\python310\\lib\\site-packages (from huggingface-hub>=0.15.1->sentence_transformers) (23.2)\n",
      "Requirement already satisfied: pyyaml>=5.1 in c:\\users\\tuman\\appdata\\local\\programs\\python\\python310\\lib\\site-packages (from huggingface-hub>=0.15.1->sentence_transformers) (6.0.1)\n",
      "Requirement already satisfied: requests in c:\\users\\tuman\\appdata\\local\\programs\\python\\python310\\lib\\site-packages (from huggingface-hub>=0.15.1->sentence_transformers) (2.32.3)\n",
      "Requirement already satisfied: typing-extensions>=3.7.4.3 in c:\\users\\tuman\\appdata\\local\\programs\\python\\python310\\lib\\site-packages (from huggingface-hub>=0.15.1->sentence_transformers) (4.12.2)\n",
      "Requirement already satisfied: sympy in c:\\users\\tuman\\appdata\\local\\programs\\python\\python310\\lib\\site-packages (from torch>=1.11.0->sentence_transformers) (1.13.2)\n",
      "Requirement already satisfied: networkx in c:\\users\\tuman\\appdata\\local\\programs\\python\\python310\\lib\\site-packages (from torch>=1.11.0->sentence_transformers) (3.3)\n",
      "Requirement already satisfied: jinja2 in c:\\users\\tuman\\appdata\\local\\programs\\python\\python310\\lib\\site-packages (from torch>=1.11.0->sentence_transformers) (3.1.4)\n",
      "Requirement already satisfied: colorama in c:\\users\\tuman\\appdata\\local\\programs\\python\\python310\\lib\\site-packages (from tqdm->sentence_transformers) (0.4.6)\n",
      "Requirement already satisfied: regex!=2019.12.17 in c:\\users\\tuman\\appdata\\local\\programs\\python\\python310\\lib\\site-packages (from transformers<5.0.0,>=4.34.0->sentence_transformers) (2024.5.15)\n",
      "Requirement already satisfied: safetensors>=0.4.1 in c:\\users\\tuman\\appdata\\local\\programs\\python\\python310\\lib\\site-packages (from transformers<5.0.0,>=4.34.0->sentence_transformers) (0.4.4)\n",
      "Requirement already satisfied: tokenizers<0.20,>=0.19 in c:\\users\\tuman\\appdata\\local\\programs\\python\\python310\\lib\\site-packages (from transformers<5.0.0,>=4.34.0->sentence_transformers) (0.19.1)\n",
      "Requirement already satisfied: joblib>=1.2.0 in c:\\users\\tuman\\appdata\\local\\programs\\python\\python310\\lib\\site-packages (from scikit-learn->sentence_transformers) (1.4.2)\n",
      "Requirement already satisfied: threadpoolctl>=3.1.0 in c:\\users\\tuman\\appdata\\local\\programs\\python\\python310\\lib\\site-packages (from scikit-learn->sentence_transformers) (3.5.0)\n",
      "Requirement already satisfied: MarkupSafe>=2.0 in c:\\users\\tuman\\appdata\\local\\programs\\python\\python310\\lib\\site-packages (from jinja2->torch>=1.11.0->sentence_transformers) (2.1.5)\n",
      "Requirement already satisfied: charset-normalizer<4,>=2 in c:\\users\\tuman\\appdata\\local\\programs\\python\\python310\\lib\\site-packages (from requests->huggingface-hub>=0.15.1->sentence_transformers) (3.3.2)\n",
      "Requirement already satisfied: idna<4,>=2.5 in c:\\users\\tuman\\appdata\\local\\programs\\python\\python310\\lib\\site-packages (from requests->huggingface-hub>=0.15.1->sentence_transformers) (3.7)\n",
      "Requirement already satisfied: urllib3<3,>=1.21.1 in c:\\users\\tuman\\appdata\\local\\programs\\python\\python310\\lib\\site-packages (from requests->huggingface-hub>=0.15.1->sentence_transformers) (2.2.2)\n",
      "Requirement already satisfied: certifi>=2017.4.17 in c:\\users\\tuman\\appdata\\local\\programs\\python\\python310\\lib\\site-packages (from requests->huggingface-hub>=0.15.1->sentence_transformers) (2024.6.2)\n",
      "Requirement already satisfied: mpmath<1.4,>=1.1.0 in c:\\users\\tuman\\appdata\\local\\programs\\python\\python310\\lib\\site-packages (from sympy->torch>=1.11.0->sentence_transformers) (1.3.0)\n"
     ]
    },
    {
     "name": "stderr",
     "output_type": "stream",
     "text": [
      "\n",
      "[notice] A new release of pip is available: 24.1.1 -> 24.2\n",
      "[notice] To update, run: C:\\Users\\tuman\\AppData\\Local\\Programs\\Python\\Python310\\python.exe -m pip install --upgrade pip\n"
     ]
    }
   ],
   "source": [
    "!pip install chromadb\n",
    "!pip install sentence_transformers"
   ]
  },
  {
   "cell_type": "code",
   "execution_count": 5,
   "metadata": {
    "id": "XS4UErzRXgyH",
    "ExecuteTime": {
     "end_time": "2024-10-21T06:33:12.041069800Z",
     "start_time": "2024-10-21T06:33:12.015046300Z"
    }
   },
   "outputs": [],
   "source": [
    "import polars as pl\n",
    "import gc\n",
    "import os\n",
    "import pickle\n",
    "import chromadb\n",
    "from chromadb.api import ClientAPI\n",
    "from sentence_transformers import SentenceTransformer"
   ]
  },
  {
   "cell_type": "markdown",
   "metadata": {
    "id": "ItWif_vCvgxB"
   },
   "source": [
    "## Векторизация признаков"
   ]
  },
  {
   "cell_type": "code",
   "execution_count": 6,
   "metadata": {
    "id": "LuJLjBitXBtu",
    "ExecuteTime": {
     "end_time": "2024-10-21T09:22:15.429423700Z",
     "start_time": "2024-10-21T06:33:12.029060200Z"
    }
   },
   "outputs": [
    {
     "name": "stdout",
     "output_type": "stream",
     "text": [
      "Starting ChromaDB item collection process...\n",
      "ChromaDB client initialized.\n",
      "Loading dataframe...\n",
      "Dataframe loaded.\n",
      "Creating Chroma collection...\n",
      "Collection 'items' already exists. Using the existing collection.\n",
      "Collection 'items' created / loaded.\n",
      "Initializing embedding model...\n"
     ]
    },
    {
     "name": "stderr",
     "output_type": "stream",
     "text": [
      "C:\\Users\\tuman\\AppData\\Local\\Programs\\Python\\Python310\\lib\\site-packages\\transformers\\tokenization_utils_base.py:1601: FutureWarning: `clean_up_tokenization_spaces` was not set. It will be set to `True` by default. This behavior will be depracted in transformers v4.45, and will be then set to `False` by default. For more details check this issue: https://github.com/huggingface/transformers/issues/31884\n",
      "  warnings.warn(\n"
     ]
    },
    {
     "name": "stdout",
     "output_type": "stream",
     "text": [
      "Embedding model initialized.\n",
      "Converting dataframe to list...\n",
      "Total items to process: 873237\n",
      "Each batch will contain approximately 87323 items.\n",
      "No progress found. Starting from batch 1.\n",
      "Total items: 873237. Processing in 10 batches.\n",
      "Starting from batch 1.\n",
      "\n",
      "Processing batch 1/10...\n",
      "Batch range: 0 to 87323\n",
      "Encoding embeddings for batch 1...\n"
     ]
    },
    {
     "data": {
      "text/plain": "Batches:   0%|          | 0/2729 [00:00<?, ?it/s]",
      "application/vnd.jupyter.widget-view+json": {
       "version_major": 2,
       "version_minor": 0,
       "model_id": "4c2882aa839b4cb0a2b66a9e00e41230"
      }
     },
     "metadata": {},
     "output_type": "display_data"
    },
    {
     "name": "stdout",
     "output_type": "stream",
     "text": [
      "Embeddings encoded for batch 1.\n",
      "Adding batch 1 to ChromaDB...\n",
      "Batch 1 added to ChromaDB.\n",
      "Progress saved: batch 2\n",
      "Memory cleared after batch 1.\n",
      "\n",
      "Processing batch 2/10...\n",
      "Batch range: 87323 to 174646\n",
      "Encoding embeddings for batch 2...\n"
     ]
    },
    {
     "data": {
      "text/plain": "Batches:   0%|          | 0/2729 [00:00<?, ?it/s]",
      "application/vnd.jupyter.widget-view+json": {
       "version_major": 2,
       "version_minor": 0,
       "model_id": "61a11bdb36674980893aeebddfc5c33d"
      }
     },
     "metadata": {},
     "output_type": "display_data"
    },
    {
     "name": "stdout",
     "output_type": "stream",
     "text": [
      "Embeddings encoded for batch 2.\n",
      "Adding batch 2 to ChromaDB...\n",
      "Batch 2 added to ChromaDB.\n",
      "Progress saved: batch 3\n",
      "Memory cleared after batch 2.\n",
      "\n",
      "Processing batch 3/10...\n",
      "Batch range: 174646 to 261969\n",
      "Encoding embeddings for batch 3...\n"
     ]
    },
    {
     "data": {
      "text/plain": "Batches:   0%|          | 0/2729 [00:00<?, ?it/s]",
      "application/vnd.jupyter.widget-view+json": {
       "version_major": 2,
       "version_minor": 0,
       "model_id": "af3ef5b86f9e41eb83f9548272763992"
      }
     },
     "metadata": {},
     "output_type": "display_data"
    },
    {
     "name": "stdout",
     "output_type": "stream",
     "text": [
      "Embeddings encoded for batch 3.\n",
      "Adding batch 3 to ChromaDB...\n",
      "Batch 3 added to ChromaDB.\n",
      "Progress saved: batch 4\n",
      "Memory cleared after batch 3.\n",
      "\n",
      "Processing batch 4/10...\n",
      "Batch range: 261969 to 349292\n",
      "Encoding embeddings for batch 4...\n"
     ]
    },
    {
     "data": {
      "text/plain": "Batches:   0%|          | 0/2729 [00:00<?, ?it/s]",
      "application/vnd.jupyter.widget-view+json": {
       "version_major": 2,
       "version_minor": 0,
       "model_id": "78dd6a23050f4b108d1f9bed7c280d06"
      }
     },
     "metadata": {},
     "output_type": "display_data"
    },
    {
     "name": "stdout",
     "output_type": "stream",
     "text": [
      "Embeddings encoded for batch 4.\n",
      "Adding batch 4 to ChromaDB...\n",
      "Batch 4 added to ChromaDB.\n",
      "Progress saved: batch 5\n",
      "Memory cleared after batch 4.\n",
      "\n",
      "Processing batch 5/10...\n",
      "Batch range: 349292 to 436615\n",
      "Encoding embeddings for batch 5...\n"
     ]
    },
    {
     "data": {
      "text/plain": "Batches:   0%|          | 0/2729 [00:00<?, ?it/s]",
      "application/vnd.jupyter.widget-view+json": {
       "version_major": 2,
       "version_minor": 0,
       "model_id": "3d80ad3578e7464382726352cf17d381"
      }
     },
     "metadata": {},
     "output_type": "display_data"
    },
    {
     "name": "stdout",
     "output_type": "stream",
     "text": [
      "Embeddings encoded for batch 5.\n",
      "Adding batch 5 to ChromaDB...\n",
      "Batch 5 added to ChromaDB.\n",
      "Progress saved: batch 6\n",
      "Memory cleared after batch 5.\n",
      "\n",
      "Processing batch 6/10...\n",
      "Batch range: 436615 to 523938\n",
      "Encoding embeddings for batch 6...\n"
     ]
    },
    {
     "data": {
      "text/plain": "Batches:   0%|          | 0/2729 [00:00<?, ?it/s]",
      "application/vnd.jupyter.widget-view+json": {
       "version_major": 2,
       "version_minor": 0,
       "model_id": "1957716dc0eb4eca86c1edab7c84bd01"
      }
     },
     "metadata": {},
     "output_type": "display_data"
    },
    {
     "name": "stdout",
     "output_type": "stream",
     "text": [
      "Embeddings encoded for batch 6.\n",
      "Adding batch 6 to ChromaDB...\n",
      "Batch 6 added to ChromaDB.\n",
      "Progress saved: batch 7\n",
      "Memory cleared after batch 6.\n",
      "\n",
      "Processing batch 7/10...\n",
      "Batch range: 523938 to 611261\n",
      "Encoding embeddings for batch 7...\n"
     ]
    },
    {
     "data": {
      "text/plain": "Batches:   0%|          | 0/2729 [00:00<?, ?it/s]",
      "application/vnd.jupyter.widget-view+json": {
       "version_major": 2,
       "version_minor": 0,
       "model_id": "2eba24d2b3c54ce9a5985e98ce489988"
      }
     },
     "metadata": {},
     "output_type": "display_data"
    },
    {
     "name": "stdout",
     "output_type": "stream",
     "text": [
      "Embeddings encoded for batch 7.\n",
      "Adding batch 7 to ChromaDB...\n",
      "Batch 7 added to ChromaDB.\n",
      "Progress saved: batch 8\n",
      "Memory cleared after batch 7.\n",
      "\n",
      "Processing batch 8/10...\n",
      "Batch range: 611261 to 698584\n",
      "Encoding embeddings for batch 8...\n"
     ]
    },
    {
     "data": {
      "text/plain": "Batches:   0%|          | 0/2729 [00:00<?, ?it/s]",
      "application/vnd.jupyter.widget-view+json": {
       "version_major": 2,
       "version_minor": 0,
       "model_id": "1f588168d86a4fc1aa7a39cac51f661a"
      }
     },
     "metadata": {},
     "output_type": "display_data"
    },
    {
     "name": "stdout",
     "output_type": "stream",
     "text": [
      "Embeddings encoded for batch 8.\n",
      "Adding batch 8 to ChromaDB...\n",
      "Batch 8 added to ChromaDB.\n",
      "Progress saved: batch 9\n",
      "Memory cleared after batch 8.\n",
      "\n",
      "Processing batch 9/10...\n",
      "Batch range: 698584 to 785907\n",
      "Encoding embeddings for batch 9...\n"
     ]
    },
    {
     "data": {
      "text/plain": "Batches:   0%|          | 0/2729 [00:00<?, ?it/s]",
      "application/vnd.jupyter.widget-view+json": {
       "version_major": 2,
       "version_minor": 0,
       "model_id": "4945cc8cade047ceb627946b690fa434"
      }
     },
     "metadata": {},
     "output_type": "display_data"
    },
    {
     "name": "stdout",
     "output_type": "stream",
     "text": [
      "Embeddings encoded for batch 9.\n",
      "Adding batch 9 to ChromaDB...\n",
      "Batch 9 added to ChromaDB.\n",
      "Progress saved: batch 10\n",
      "Memory cleared after batch 9.\n",
      "\n",
      "Processing batch 10/10...\n",
      "Batch range: 785907 to 873237\n",
      "Encoding embeddings for batch 10...\n"
     ]
    },
    {
     "data": {
      "text/plain": "Batches:   0%|          | 0/2730 [00:00<?, ?it/s]",
      "application/vnd.jupyter.widget-view+json": {
       "version_major": 2,
       "version_minor": 0,
       "model_id": "c412d0e4606048a99f159c0d9b361083"
      }
     },
     "metadata": {},
     "output_type": "display_data"
    },
    {
     "name": "stdout",
     "output_type": "stream",
     "text": [
      "Embeddings encoded for batch 10.\n",
      "Adding batch 10 to ChromaDB...\n",
      "Batch 10 added to ChromaDB.\n",
      "Progress saved: batch 11\n",
      "Memory cleared after batch 10.\n",
      "ChromaDB collection process completed.\n"
     ]
    }
   ],
   "source": [
    "# Путь к файлу для сохранения прогресса\n",
    "progress_file = 'chroma_data_items_progress.txt'\n",
    "\n",
    "def save_progress(batch_num):\n",
    "    with open(progress_file, 'w') as f:\n",
    "        f.write(str(batch_num))\n",
    "    print(f\"Progress saved: batch {batch_num + 1}\")\n",
    "\n",
    "\n",
    "def load_progress():\n",
    "    if os.path.exists(progress_file):\n",
    "        with open(progress_file, 'r') as f:\n",
    "            progress = int(f.read())\n",
    "        print(f\"Resuming from batch {progress + 1}\")\n",
    "        return progress\n",
    "    print(\"No progress found. Starting from batch 1.\")\n",
    "    return 0\n",
    "\n",
    "\n",
    "def create_chroma_collection(client: chromadb.ClientAPI,\n",
    "                             categories_dataframe: pl.DataFrame,\n",
    "                             collection_name,\n",
    "                             batch_size) -> None:\n",
    "    print(\"Creating Chroma collection...\")\n",
    "\n",
    "    existing_collections = [col.name for col in client.list_collections()]\n",
    "\n",
    "    if collection_name in existing_collections:\n",
    "        print(f\"Collection '{collection_name}' already exists. Using the existing collection.\")\n",
    "        items_collection = client.get_collection(collection_name)\n",
    "    else:\n",
    "        print(f\"Creating new collection '{collection_name}'...\")\n",
    "        items_collection = client.create_collection(collection_name)\n",
    "\n",
    "    print(f\"Collection '{collection_name}' created / loaded.\")\n",
    "\n",
    "    # Инициализация модели\n",
    "    print(\"Initializing embedding model...\")\n",
    "    embedding_model = SentenceTransformer('intfloat/multilingual-e5-small')\n",
    "    print(\"Embedding model initialized.\")\n",
    "\n",
    "    # Преобразуем данные в список для работы с батчами\n",
    "    print(\"Converting dataframe to list...\")\n",
    "    items_specific = categories_dataframe[\"name\"].to_list()  # ЗДЕСЬ ВЫБРАТЬ СТОЛБЕЦ \n",
    "    total_items = len(items_specific)\n",
    "    print(f\"Total items to process: {total_items}\")\n",
    "\n",
    "    # Определяем количество элементов в каждом батче\n",
    "    batch_length = total_items // batch_size\n",
    "    print(f\"Each batch will contain approximately {batch_length} items.\")\n",
    "\n",
    "    # Загружаем прогресс\n",
    "    start_batch = load_progress()\n",
    "\n",
    "    print(f\"Total items: {total_items}. Processing in {batch_size} batches.\")\n",
    "    print(f\"Starting from batch {start_batch + 1}.\")\n",
    "\n",
    "    for batch_num in range(start_batch, batch_size):\n",
    "        print(f\"\\nProcessing batch {batch_num + 1}/{batch_size}...\")\n",
    "\n",
    "        start_index = batch_num * batch_length\n",
    "        end_index = start_index + batch_length if batch_num < batch_size - 1 else total_items  # Последний батч захватывает все остатки\n",
    "        print(f\"Batch range: {start_index} to {end_index}\")\n",
    "\n",
    "        batch_specific = items_specific[start_index:end_index]\n",
    "\n",
    "        # Кодирование эмбеддингов для текущего батча\n",
    "        print(f\"Encoding embeddings for batch {batch_num + 1}...\")\n",
    "        specific_embeddings = embedding_model.encode(batch_specific, show_progress_bar=True)\n",
    "        specific_embeddings_list = [embedding.astype('float16').tolist() for embedding in specific_embeddings]\n",
    "        print(f\"Embeddings encoded for batch {batch_num + 1}.\")\n",
    "\n",
    "        print(f\"Adding batch {batch_num + 1} to ChromaDB...\")\n",
    "        for index, embedding in enumerate(specific_embeddings_list):\n",
    "            row = categories_dataframe.row(start_index + index)\n",
    "            items_collection.add(\n",
    "                ids=[str(row[1])],\n",
    "                documents=[batch_specific[index]],\n",
    "                embeddings=[embedding],\n",
    "                metadatas=[{\"category_id\": row[0], \"id\": row[1], \"name\": row[2]}]\n",
    "            )\n",
    "        print(f\"Batch {batch_num + 1} added to ChromaDB.\")\n",
    "\n",
    "        # Сохраняем прогресс\n",
    "        save_progress(batch_num + 1)\n",
    "\n",
    "        # Освобождение памяти после каждого батча\n",
    "        del specific_embeddings\n",
    "        del specific_embeddings_list\n",
    "        gc.collect()\n",
    "        print(f\"Memory cleared after batch {batch_num + 1}.\")\n",
    "\n",
    "if __name__ == \"__main__\":\n",
    "    print(\"Starting ChromaDB item collection process...\")\n",
    "\n",
    "    chroma_client = chromadb.PersistentClient(path=\"chroma_light_items_v3/\")\n",
    "    print(\"ChromaDB client initialized.\")\n",
    "\n",
    "    print(\"Loading dataframe...\")\n",
    "    items_dataframe = pl.read_parquet(\"submission/data/items.parquet\")\n",
    "    print(\"Dataframe loaded.\")\n",
    "\n",
    "    create_chroma_collection(chroma_client, items_dataframe, \"items\", batch_size=10)\n",
    "    print(\"ChromaDB collection process completed.\")"
   ]
  }
 ],
 "metadata": {
  "accelerator": "GPU",
  "colab": {
   "gpuType": "T4",
   "provenance": []
  },
  "kernelspec": {
   "name": "python3",
   "language": "python",
   "display_name": "Python 3 (ipykernel)"
  },
  "language_info": {
   "name": "python"
  }
 },
 "nbformat": 4,
 "nbformat_minor": 0
}
